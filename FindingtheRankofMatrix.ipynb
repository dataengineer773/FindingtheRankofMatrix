{
 "cells": [
  {
   "cell_type": "code",
   "execution_count": 1,
   "id": "4495e5e8-a3ec-4071-904f-411c1d9a1537",
   "metadata": {},
   "outputs": [],
   "source": [
    "# Load library\n",
    "import numpy as np"
   ]
  },
  {
   "cell_type": "code",
   "execution_count": 2,
   "id": "a432d8c0-9427-4272-b25f-cfdf144e680e",
   "metadata": {},
   "outputs": [],
   "source": [
    "# Create matrix\n",
    "matrix = np.array([[1, 1, 1],\n",
    "[1, 1, 10],\n",
    "[1, 1, 15]])"
   ]
  },
  {
   "cell_type": "code",
   "execution_count": 3,
   "id": "5be2b61c-3ae6-49b7-9b31-112846e8efe7",
   "metadata": {},
   "outputs": [
    {
     "data": {
      "text/plain": [
       "np.int64(2)"
      ]
     },
     "execution_count": 3,
     "metadata": {},
     "output_type": "execute_result"
    }
   ],
   "source": [
    "# Return matrix rank\n",
    "np.linalg.matrix_rank(matrix)"
   ]
  }
 ],
 "metadata": {
  "kernelspec": {
   "display_name": "Python 3 (ipykernel)",
   "language": "python",
   "name": "python3"
  },
  "language_info": {
   "codemirror_mode": {
    "name": "ipython",
    "version": 3
   },
   "file_extension": ".py",
   "mimetype": "text/x-python",
   "name": "python",
   "nbconvert_exporter": "python",
   "pygments_lexer": "ipython3",
   "version": "3.12.3"
  }
 },
 "nbformat": 4,
 "nbformat_minor": 5
}
